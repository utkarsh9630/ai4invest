{
  "nbformat": 4,
  "nbformat_minor": 0,
  "metadata": {
    "colab": {
      "provenance": []
    },
    "kernelspec": {
      "name": "python3",
      "display_name": "Python 3"
    },
    "language_info": {
      "name": "python"
    }
  },
  "cells": [
    {
      "cell_type": "code",
      "execution_count": 27,
      "metadata": {
        "id": "xVCKAq7XbVat"
      },
      "outputs": [],
      "source": [
        "import pandas as pd\n",
        "import numpy as np\n",
        "import yfinance as yf\n",
        "from sklearn.cluster import KMeans\n",
        "from sklearn.preprocessing import StandardScaler\n",
        "#import all the dependencies"
      ]
    },
    {
      "cell_type": "code",
      "source": [
        "#get current S&P tickers from wikipedia\n",
        "wiki_url = \"https://en.wikipedia.org/wiki/List_of_S%26P_500_companies\"\n",
        "sp500 = pd.read_html(wiki_url, header=0)[0]\n",
        "symbols = sp500[\"Symbol\"].str.replace(r\"\\.\", \"-\", regex=True).tolist()"
      ],
      "metadata": {
        "id": "BwWuvrN0bbZ3"
      },
      "execution_count": 28,
      "outputs": []
    },
    {
      "cell_type": "code",
      "source": [
        "#get top 50 companies traded on Nasdaq on S&P 500 by average daily volume over last 60 days\n",
        "vol_data = yf.download(symbols, period=\"60d\", group_by=\"ticker\", auto_adjust=True)\n",
        "avg_vol = {\n",
        "    sym: vol_data[sym][\"Volume\"].mean()\n",
        "    for sym in symbols\n",
        "    if sym in vol_data.columns.levels[0]\n",
        "}\n",
        "top100 = sorted(avg_vol, key=avg_vol.get, reverse=True)[:100]\n",
        "print(f\"Using top 50 by volume: {top100}\\n\")"
      ],
      "metadata": {
        "colab": {
          "base_uri": "https://localhost:8080/"
        },
        "id": "k1eBqe2nbvEF",
        "outputId": "30d8eab4-040a-4809-c760-1a50a3c5061b"
      },
      "execution_count": 29,
      "outputs": [
        {
          "output_type": "stream",
          "name": "stderr",
          "text": [
            "[*********************100%***********************]  503 of 503 completed\n"
          ]
        },
        {
          "output_type": "stream",
          "name": "stdout",
          "text": [
            "Using top 50 by volume: ['NVDA', 'F', 'TSLA', 'INTC', 'PLTR', 'SMCI', 'AAPL', 'PFE', 'AMZN', 'BAC', 'T', 'WBD', 'AMD', 'AMCR', 'GOOGL', 'AVGO', 'CMCSA', 'CCL', 'MSFT', 'VZ', 'MU', 'CSCO', 'WMT', 'HBAN', 'GOOG', 'HPE', 'UBER', 'NKE', 'KO', 'WFC', 'WBA', 'PCG', 'FCX', 'META', 'SLB', 'C', 'XOM', 'MRK', 'KVUE', 'CSX', 'NCLH', 'AES', 'KEY', 'KDP', 'GM', 'VTRS', 'KMI', 'CMG', 'BMY', 'LUV', 'LRCX', 'OXY', 'NEM', 'HAL', 'SCHW', 'MCHP', 'DAL', 'PYPL', 'NEE', 'ANET', 'USB', 'JPM', 'SBUX', 'KHC', 'CVS', 'ORCL', 'HST', 'ON', 'DIS', 'MO', 'MDLZ', 'TFC', 'MRNA', 'DVN', 'JNJ', 'GILD', 'UAL', 'COP', 'RF', 'CVX', 'APA', 'PARA', 'WDC', 'QCOM', 'EQT', 'BA', 'DOW', 'EXC', 'HPQ', 'APH', 'PG', 'DELL', 'BSX', 'BKR', 'TGT', 'VST', 'TXN', 'AMAT', 'MS', 'PEP']\n",
            "\n"
          ]
        }
      ]
    },
    {
      "cell_type": "code",
      "source": [
        "#Download 1 year of daily price data for these 50 stocks\n",
        "prices = yf.download(\n",
        "    tickers=top100,\n",
        "    period=\"1y\",\n",
        "    auto_adjust=True,\n",
        "    group_by=\"ticker\",\n",
        "    threads=True\n",
        ")"
      ],
      "metadata": {
        "colab": {
          "base_uri": "https://localhost:8080/"
        },
        "id": "3vC7VUwAcPFK",
        "outputId": "abca86c6-d95e-47a5-99e9-6df41ca32e98"
      },
      "execution_count": 30,
      "outputs": [
        {
          "output_type": "stream",
          "name": "stderr",
          "text": [
            "[*********************100%***********************]  100 of 100 completed\n"
          ]
        }
      ]
    },
    {
      "cell_type": "code",
      "source": [
        "# Fetch SPY just for beta:\n",
        "spy_prices = (\n",
        "    yf.download(\"SPY\", period=\"1y\", auto_adjust=True)[\"Close\"]\n",
        "    .pct_change()\n",
        "    .dropna()\n",
        ")\n",
        "spy_prices.name = \"SPY\"\n"
      ],
      "metadata": {
        "colab": {
          "base_uri": "https://localhost:8080/"
        },
        "id": "lUCGqXKsdiac",
        "outputId": "d318b42c-3dbb-47fd-c0c0-23fd22c6df3d"
      },
      "execution_count": 31,
      "outputs": [
        {
          "output_type": "stream",
          "name": "stderr",
          "text": [
            "\r[*********************100%***********************]  1 of 1 completed\n"
          ]
        }
      ]
    },
    {
      "cell_type": "code",
      "source": [
        "#price based features for each stock\n",
        "feat_list = []\n",
        "for sym in top100:\n",
        "    # a) compute returns\n",
        "    df = prices[sym][\"Close\"].pct_change().to_frame(\"ret\").dropna()\n",
        "\n",
        "    # b) rolling 30‑day volatility\n",
        "    df[\"vol30\"] = df[\"ret\"].rolling(30).std()\n",
        "\n",
        "    # c) 30‑day momentum\n",
        "    df[\"mom30\"] = prices[sym][\"Close\"].pct_change(30)\n",
        "\n",
        "    # d) rolling 60‑day beta vs SPY\n",
        "    combined = pd.concat([df[\"ret\"], spy_prices], axis=1, join=\"inner\").dropna()\n",
        "    cov    = combined[\"ret\"].rolling(60).cov(combined[\"SPY\"])\n",
        "    var    = combined[\"SPY\"].rolling(60).var()\n",
        "    df[\"beta60\"] = (cov / var).reindex(df.index)\n",
        "\n",
        "    # e) grab the most recent valid row\n",
        "    last = df.dropna().iloc[-1].to_dict()\n",
        "    last[\"ticker\"] = sym\n",
        "    feat_list.append(last)\n",
        "\n",
        "# assemble into DataFrame\n",
        "feat_df = pd.DataFrame(feat_list).set_index(\"ticker\")\n",
        "print(\"Price‑based features:\"); display(feat_df.head())\n"
      ],
      "metadata": {
        "colab": {
          "base_uri": "https://localhost:8080/",
          "height": 255
        },
        "id": "ZbZw5EqCeR05",
        "outputId": "f003d04a-27ef-4130-ef46-231280bb8191"
      },
      "execution_count": 32,
      "outputs": [
        {
          "output_type": "stream",
          "name": "stdout",
          "text": [
            "Price‑based features:\n"
          ]
        },
        {
          "output_type": "display_data",
          "data": {
            "text/plain": [
              "             ret     vol30     mom30    beta60\n",
              "ticker                                        \n",
              "NVDA    0.025894  0.049991 -0.034000  1.748606\n",
              "F       0.009823  0.031267  0.026973  0.842220\n",
              "TSLA    0.023849  0.064963  0.215652  2.159177\n",
              "INTC    0.032032  0.052082 -0.139399  1.419522\n",
              "PLTR    0.069535  0.056246  0.422131  1.957583"
            ],
            "text/html": [
              "\n",
              "  <div id=\"df-3856cc0c-a942-42ae-9c30-4576e73b8ed1\" class=\"colab-df-container\">\n",
              "    <div>\n",
              "<style scoped>\n",
              "    .dataframe tbody tr th:only-of-type {\n",
              "        vertical-align: middle;\n",
              "    }\n",
              "\n",
              "    .dataframe tbody tr th {\n",
              "        vertical-align: top;\n",
              "    }\n",
              "\n",
              "    .dataframe thead th {\n",
              "        text-align: right;\n",
              "    }\n",
              "</style>\n",
              "<table border=\"1\" class=\"dataframe\">\n",
              "  <thead>\n",
              "    <tr style=\"text-align: right;\">\n",
              "      <th></th>\n",
              "      <th>ret</th>\n",
              "      <th>vol30</th>\n",
              "      <th>mom30</th>\n",
              "      <th>beta60</th>\n",
              "    </tr>\n",
              "    <tr>\n",
              "      <th>ticker</th>\n",
              "      <th></th>\n",
              "      <th></th>\n",
              "      <th></th>\n",
              "      <th></th>\n",
              "    </tr>\n",
              "  </thead>\n",
              "  <tbody>\n",
              "    <tr>\n",
              "      <th>NVDA</th>\n",
              "      <td>0.025894</td>\n",
              "      <td>0.049991</td>\n",
              "      <td>-0.034000</td>\n",
              "      <td>1.748606</td>\n",
              "    </tr>\n",
              "    <tr>\n",
              "      <th>F</th>\n",
              "      <td>0.009823</td>\n",
              "      <td>0.031267</td>\n",
              "      <td>0.026973</td>\n",
              "      <td>0.842220</td>\n",
              "    </tr>\n",
              "    <tr>\n",
              "      <th>TSLA</th>\n",
              "      <td>0.023849</td>\n",
              "      <td>0.064963</td>\n",
              "      <td>0.215652</td>\n",
              "      <td>2.159177</td>\n",
              "    </tr>\n",
              "    <tr>\n",
              "      <th>INTC</th>\n",
              "      <td>0.032032</td>\n",
              "      <td>0.052082</td>\n",
              "      <td>-0.139399</td>\n",
              "      <td>1.419522</td>\n",
              "    </tr>\n",
              "    <tr>\n",
              "      <th>PLTR</th>\n",
              "      <td>0.069535</td>\n",
              "      <td>0.056246</td>\n",
              "      <td>0.422131</td>\n",
              "      <td>1.957583</td>\n",
              "    </tr>\n",
              "  </tbody>\n",
              "</table>\n",
              "</div>\n",
              "    <div class=\"colab-df-buttons\">\n",
              "\n",
              "  <div class=\"colab-df-container\">\n",
              "    <button class=\"colab-df-convert\" onclick=\"convertToInteractive('df-3856cc0c-a942-42ae-9c30-4576e73b8ed1')\"\n",
              "            title=\"Convert this dataframe to an interactive table.\"\n",
              "            style=\"display:none;\">\n",
              "\n",
              "  <svg xmlns=\"http://www.w3.org/2000/svg\" height=\"24px\" viewBox=\"0 -960 960 960\">\n",
              "    <path d=\"M120-120v-720h720v720H120Zm60-500h600v-160H180v160Zm220 220h160v-160H400v160Zm0 220h160v-160H400v160ZM180-400h160v-160H180v160Zm440 0h160v-160H620v160ZM180-180h160v-160H180v160Zm440 0h160v-160H620v160Z\"/>\n",
              "  </svg>\n",
              "    </button>\n",
              "\n",
              "  <style>\n",
              "    .colab-df-container {\n",
              "      display:flex;\n",
              "      gap: 12px;\n",
              "    }\n",
              "\n",
              "    .colab-df-convert {\n",
              "      background-color: #E8F0FE;\n",
              "      border: none;\n",
              "      border-radius: 50%;\n",
              "      cursor: pointer;\n",
              "      display: none;\n",
              "      fill: #1967D2;\n",
              "      height: 32px;\n",
              "      padding: 0 0 0 0;\n",
              "      width: 32px;\n",
              "    }\n",
              "\n",
              "    .colab-df-convert:hover {\n",
              "      background-color: #E2EBFA;\n",
              "      box-shadow: 0px 1px 2px rgba(60, 64, 67, 0.3), 0px 1px 3px 1px rgba(60, 64, 67, 0.15);\n",
              "      fill: #174EA6;\n",
              "    }\n",
              "\n",
              "    .colab-df-buttons div {\n",
              "      margin-bottom: 4px;\n",
              "    }\n",
              "\n",
              "    [theme=dark] .colab-df-convert {\n",
              "      background-color: #3B4455;\n",
              "      fill: #D2E3FC;\n",
              "    }\n",
              "\n",
              "    [theme=dark] .colab-df-convert:hover {\n",
              "      background-color: #434B5C;\n",
              "      box-shadow: 0px 1px 3px 1px rgba(0, 0, 0, 0.15);\n",
              "      filter: drop-shadow(0px 1px 2px rgba(0, 0, 0, 0.3));\n",
              "      fill: #FFFFFF;\n",
              "    }\n",
              "  </style>\n",
              "\n",
              "    <script>\n",
              "      const buttonEl =\n",
              "        document.querySelector('#df-3856cc0c-a942-42ae-9c30-4576e73b8ed1 button.colab-df-convert');\n",
              "      buttonEl.style.display =\n",
              "        google.colab.kernel.accessAllowed ? 'block' : 'none';\n",
              "\n",
              "      async function convertToInteractive(key) {\n",
              "        const element = document.querySelector('#df-3856cc0c-a942-42ae-9c30-4576e73b8ed1');\n",
              "        const dataTable =\n",
              "          await google.colab.kernel.invokeFunction('convertToInteractive',\n",
              "                                                    [key], {});\n",
              "        if (!dataTable) return;\n",
              "\n",
              "        const docLinkHtml = 'Like what you see? Visit the ' +\n",
              "          '<a target=\"_blank\" href=https://colab.research.google.com/notebooks/data_table.ipynb>data table notebook</a>'\n",
              "          + ' to learn more about interactive tables.';\n",
              "        element.innerHTML = '';\n",
              "        dataTable['output_type'] = 'display_data';\n",
              "        await google.colab.output.renderOutput(dataTable, element);\n",
              "        const docLink = document.createElement('div');\n",
              "        docLink.innerHTML = docLinkHtml;\n",
              "        element.appendChild(docLink);\n",
              "      }\n",
              "    </script>\n",
              "  </div>\n",
              "\n",
              "\n",
              "    <div id=\"df-856a860c-23fe-4766-9d87-2ff4c70d817f\">\n",
              "      <button class=\"colab-df-quickchart\" onclick=\"quickchart('df-856a860c-23fe-4766-9d87-2ff4c70d817f')\"\n",
              "                title=\"Suggest charts\"\n",
              "                style=\"display:none;\">\n",
              "\n",
              "<svg xmlns=\"http://www.w3.org/2000/svg\" height=\"24px\"viewBox=\"0 0 24 24\"\n",
              "     width=\"24px\">\n",
              "    <g>\n",
              "        <path d=\"M19 3H5c-1.1 0-2 .9-2 2v14c0 1.1.9 2 2 2h14c1.1 0 2-.9 2-2V5c0-1.1-.9-2-2-2zM9 17H7v-7h2v7zm4 0h-2V7h2v10zm4 0h-2v-4h2v4z\"/>\n",
              "    </g>\n",
              "</svg>\n",
              "      </button>\n",
              "\n",
              "<style>\n",
              "  .colab-df-quickchart {\n",
              "      --bg-color: #E8F0FE;\n",
              "      --fill-color: #1967D2;\n",
              "      --hover-bg-color: #E2EBFA;\n",
              "      --hover-fill-color: #174EA6;\n",
              "      --disabled-fill-color: #AAA;\n",
              "      --disabled-bg-color: #DDD;\n",
              "  }\n",
              "\n",
              "  [theme=dark] .colab-df-quickchart {\n",
              "      --bg-color: #3B4455;\n",
              "      --fill-color: #D2E3FC;\n",
              "      --hover-bg-color: #434B5C;\n",
              "      --hover-fill-color: #FFFFFF;\n",
              "      --disabled-bg-color: #3B4455;\n",
              "      --disabled-fill-color: #666;\n",
              "  }\n",
              "\n",
              "  .colab-df-quickchart {\n",
              "    background-color: var(--bg-color);\n",
              "    border: none;\n",
              "    border-radius: 50%;\n",
              "    cursor: pointer;\n",
              "    display: none;\n",
              "    fill: var(--fill-color);\n",
              "    height: 32px;\n",
              "    padding: 0;\n",
              "    width: 32px;\n",
              "  }\n",
              "\n",
              "  .colab-df-quickchart:hover {\n",
              "    background-color: var(--hover-bg-color);\n",
              "    box-shadow: 0 1px 2px rgba(60, 64, 67, 0.3), 0 1px 3px 1px rgba(60, 64, 67, 0.15);\n",
              "    fill: var(--button-hover-fill-color);\n",
              "  }\n",
              "\n",
              "  .colab-df-quickchart-complete:disabled,\n",
              "  .colab-df-quickchart-complete:disabled:hover {\n",
              "    background-color: var(--disabled-bg-color);\n",
              "    fill: var(--disabled-fill-color);\n",
              "    box-shadow: none;\n",
              "  }\n",
              "\n",
              "  .colab-df-spinner {\n",
              "    border: 2px solid var(--fill-color);\n",
              "    border-color: transparent;\n",
              "    border-bottom-color: var(--fill-color);\n",
              "    animation:\n",
              "      spin 1s steps(1) infinite;\n",
              "  }\n",
              "\n",
              "  @keyframes spin {\n",
              "    0% {\n",
              "      border-color: transparent;\n",
              "      border-bottom-color: var(--fill-color);\n",
              "      border-left-color: var(--fill-color);\n",
              "    }\n",
              "    20% {\n",
              "      border-color: transparent;\n",
              "      border-left-color: var(--fill-color);\n",
              "      border-top-color: var(--fill-color);\n",
              "    }\n",
              "    30% {\n",
              "      border-color: transparent;\n",
              "      border-left-color: var(--fill-color);\n",
              "      border-top-color: var(--fill-color);\n",
              "      border-right-color: var(--fill-color);\n",
              "    }\n",
              "    40% {\n",
              "      border-color: transparent;\n",
              "      border-right-color: var(--fill-color);\n",
              "      border-top-color: var(--fill-color);\n",
              "    }\n",
              "    60% {\n",
              "      border-color: transparent;\n",
              "      border-right-color: var(--fill-color);\n",
              "    }\n",
              "    80% {\n",
              "      border-color: transparent;\n",
              "      border-right-color: var(--fill-color);\n",
              "      border-bottom-color: var(--fill-color);\n",
              "    }\n",
              "    90% {\n",
              "      border-color: transparent;\n",
              "      border-bottom-color: var(--fill-color);\n",
              "    }\n",
              "  }\n",
              "</style>\n",
              "\n",
              "      <script>\n",
              "        async function quickchart(key) {\n",
              "          const quickchartButtonEl =\n",
              "            document.querySelector('#' + key + ' button');\n",
              "          quickchartButtonEl.disabled = true;  // To prevent multiple clicks.\n",
              "          quickchartButtonEl.classList.add('colab-df-spinner');\n",
              "          try {\n",
              "            const charts = await google.colab.kernel.invokeFunction(\n",
              "                'suggestCharts', [key], {});\n",
              "          } catch (error) {\n",
              "            console.error('Error during call to suggestCharts:', error);\n",
              "          }\n",
              "          quickchartButtonEl.classList.remove('colab-df-spinner');\n",
              "          quickchartButtonEl.classList.add('colab-df-quickchart-complete');\n",
              "        }\n",
              "        (() => {\n",
              "          let quickchartButtonEl =\n",
              "            document.querySelector('#df-856a860c-23fe-4766-9d87-2ff4c70d817f button');\n",
              "          quickchartButtonEl.style.display =\n",
              "            google.colab.kernel.accessAllowed ? 'block' : 'none';\n",
              "        })();\n",
              "      </script>\n",
              "    </div>\n",
              "\n",
              "    </div>\n",
              "  </div>\n"
            ],
            "application/vnd.google.colaboratory.intrinsic+json": {
              "type": "dataframe",
              "summary": "{\n  \"name\": \"print(\\\"Price\\u2011based features:\\\"); display(feat_df\",\n  \"rows\": 5,\n  \"fields\": [\n    {\n      \"column\": \"ticker\",\n      \"properties\": {\n        \"dtype\": \"string\",\n        \"num_unique_values\": 5,\n        \"samples\": [\n          \"F\",\n          \"PLTR\",\n          \"TSLA\"\n        ],\n        \"semantic_type\": \"\",\n        \"description\": \"\"\n      }\n    },\n    {\n      \"column\": \"ret\",\n      \"properties\": {\n        \"dtype\": \"number\",\n        \"std\": 0.022384085764941965,\n        \"min\": 0.009823126208018618,\n        \"max\": 0.06953530157710497,\n        \"num_unique_values\": 5,\n        \"samples\": [\n          0.009823126208018618,\n          0.06953530157710497,\n          0.023848576584252656\n        ],\n        \"semantic_type\": \"\",\n        \"description\": \"\"\n      }\n    },\n    {\n      \"column\": \"vol30\",\n      \"properties\": {\n        \"dtype\": \"number\",\n        \"std\": 0.012390030630912166,\n        \"min\": 0.031266646255965994,\n        \"max\": 0.06496345281693569,\n        \"num_unique_values\": 5,\n        \"samples\": [\n          0.031266646255965994,\n          0.05624589954213102,\n          0.06496345281693569\n        ],\n        \"semantic_type\": \"\",\n        \"description\": \"\"\n      }\n    },\n    {\n      \"column\": \"mom30\",\n      \"properties\": {\n        \"dtype\": \"number\",\n        \"std\": 0.22233388085808192,\n        \"min\": -0.13939893041998286,\n        \"max\": 0.42213067453137154,\n        \"num_unique_values\": 5,\n        \"samples\": [\n          0.02697297681475841,\n          0.42213067453137154,\n          0.215652239620991\n        ],\n        \"semantic_type\": \"\",\n        \"description\": \"\"\n      }\n    },\n    {\n      \"column\": \"beta60\",\n      \"properties\": {\n        \"dtype\": \"number\",\n        \"std\": 0.5162846484301811,\n        \"min\": 0.8422201759612611,\n        \"max\": 2.159176642856314,\n        \"num_unique_values\": 5,\n        \"samples\": [\n          0.8422201759612611,\n          1.9575833027446237,\n          2.159176642856314\n        ],\n        \"semantic_type\": \"\",\n        \"description\": \"\"\n      }\n    }\n  ]\n}"
            }
          },
          "metadata": {}
        }
      ]
    },
    {
      "cell_type": "code",
      "source": [
        "#get fundamentals for the tickers\n",
        "funds = []\n",
        "for sym in feat_df.index:\n",
        "    info = yf.Ticker(sym).info\n",
        "    funds.append({\n",
        "        \"ticker\":    sym,\n",
        "        \"pe\":        info.get(\"trailingPE\",    np.nan),\n",
        "        \"pb\":        info.get(\"priceToBook\",   np.nan),\n",
        "        \"div_yield\": info.get(\"dividendYield\", np.nan),\n",
        "    })\n",
        "fund_df = pd.DataFrame(funds).set_index(\"ticker\")\n",
        "print(\"Fundamentals (PE, PB, dividend yield):\")\n",
        "print(fund_df.head(), \"\\n\")\n"
      ],
      "metadata": {
        "colab": {
          "base_uri": "https://localhost:8080/"
        },
        "id": "YenzVgEReqXs",
        "outputId": "c8f3a68f-4437-416a-dddb-fd9244fc8fd1"
      },
      "execution_count": 33,
      "outputs": [
        {
          "output_type": "stream",
          "name": "stdout",
          "text": [
            "Fundamentals (PE, PB, dividend yield):\n",
            "                pe         pb  div_yield\n",
            "ticker                                  \n",
            "NVDA     38.945576  35.328600       0.03\n",
            "F         7.041096   0.908769       7.30\n",
            "TSLA    164.120000  12.388285        NaN\n",
            "INTC           NaN   0.901657        NaN\n",
            "PLTR    654.105300  58.101917        NaN \n",
            "\n"
          ]
        }
      ]
    },
    {
      "cell_type": "code",
      "source": [
        "#merge features & fundamentals, inspect missing values\n",
        "data = feat_df.join(fund_df)\n",
        "print(\"Missing values before imputation:\")\n",
        "print(data.isna().sum(), \"\\n\")\n"
      ],
      "metadata": {
        "colab": {
          "base_uri": "https://localhost:8080/"
        },
        "id": "-o78DwZ9f1Ci",
        "outputId": "b702af5b-dc23-41ab-8348-aeb5f49717e8"
      },
      "execution_count": 34,
      "outputs": [
        {
          "output_type": "stream",
          "name": "stdout",
          "text": [
            "Missing values before imputation:\n",
            "ret           0\n",
            "vol30         0\n",
            "mom30         0\n",
            "beta60        0\n",
            "pe            9\n",
            "pb            0\n",
            "div_yield    18\n",
            "dtype: int64 \n",
            "\n"
          ]
        }
      ]
    },
    {
      "cell_type": "code",
      "source": [
        "from sklearn.impute import SimpleImputer\n",
        "imputer = SimpleImputer(strategy=\"median\")\n",
        "data_imputed = pd.DataFrame(\n",
        "    imputer.fit_transform(data),\n",
        "    columns=data.columns,\n",
        "    index=data.index\n",
        ")\n",
        "print(\"Missing values after imputation:\")\n",
        "print(data_imputed.isna().sum(), \"\\n\")\n"
      ],
      "metadata": {
        "colab": {
          "base_uri": "https://localhost:8080/"
        },
        "id": "FYny3Q-dgGn3",
        "outputId": "f4d6e6e3-0584-4b93-c1ee-46a1756d288d"
      },
      "execution_count": 35,
      "outputs": [
        {
          "output_type": "stream",
          "name": "stdout",
          "text": [
            "Missing values after imputation:\n",
            "ret          0\n",
            "vol30        0\n",
            "mom30        0\n",
            "beta60       0\n",
            "pe           0\n",
            "pb           0\n",
            "div_yield    0\n",
            "dtype: int64 \n",
            "\n"
          ]
        }
      ]
    },
    {
      "cell_type": "code",
      "source": [
        "#perform K means\n",
        "scaler = StandardScaler()\n",
        "X = scaler.fit_transform(data_imputed)\n",
        "\n",
        "kmeans = KMeans(n_clusters=3, random_state=42)\n",
        "data_imputed[\"cluster\"] = kmeans.fit_predict(X)"
      ],
      "metadata": {
        "id": "MV_g7FojhH9A"
      },
      "execution_count": 36,
      "outputs": []
    },
    {
      "cell_type": "code",
      "source": [
        "#map the clusters\n",
        "centroids = pd.DataFrame(\n",
        "    scaler.inverse_transform(kmeans.cluster_centers_),\n",
        "    columns=data_imputed.columns[:-1]\n",
        ")\n",
        "order = centroids[\"vol30\"].sort_values().index.tolist()\n",
        "risk_map = { order[i]: lab for i, lab in enumerate([\"Low\",\"Medium\",\"High\"]) }\n",
        "data_imputed[\"risk_label\"] = data_imputed[\"cluster\"].map(risk_map)"
      ],
      "metadata": {
        "id": "QORXfmD0hS11"
      },
      "execution_count": 37,
      "outputs": []
    },
    {
      "cell_type": "code",
      "source": [
        "from sklearn.preprocessing import RobustScaler\n",
        "from sklearn.cluster import KMeans\n",
        "import numpy as np\n",
        "\n",
        "# 1) Log‑transform vol30 to downweight extreme volatilities\n",
        "data[\"vol30_log\"] = np.log1p(data[\"vol30\"])\n",
        "\n",
        "# 2) Features for clustering\n",
        "feat_cols = [\"vol30_log\", \"mom30\", \"beta60\"]\n",
        "\n",
        "# 3) Fit RobustScaler on those features\n",
        "rs = RobustScaler()\n",
        "X_rs = rs.fit_transform(data[feat_cols])\n",
        "\n",
        "# 4) Run K‑Means on the scaled data\n",
        "kmeans2 = KMeans(n_clusters=3, random_state=42).fit(X_rs)\n",
        "data[\"cluster2\"] = kmeans2.labels_\n",
        "\n",
        "# 5) Inverse‑transform the centroids back to original feature units\n",
        "centroids = pd.DataFrame(\n",
        "    rs.inverse_transform(kmeans2.cluster_centers_),\n",
        "    columns=feat_cols\n",
        ")\n",
        "\n",
        "# 6) Order clusters by ascending vol30_log to map to Low/Med/High\n",
        "order = centroids[\"vol30_log\"].sort_values().index.tolist()\n",
        "risk_map = { order[i]: label for i, label in enumerate([\"Low\",\"Medium\",\"High\"]) }\n",
        "data[\"risk_label2\"] = data[\"cluster2\"].map(risk_map)\n",
        "\n",
        "# 7) Inspect new distribution\n",
        "print(data[\"risk_label2\"].value_counts())\n"
      ],
      "metadata": {
        "colab": {
          "base_uri": "https://localhost:8080/"
        },
        "id": "cz0Yu5UDkF4v",
        "outputId": "4c73b0ac-c942-4358-a768-caa3c96833d6"
      },
      "execution_count": 39,
      "outputs": [
        {
          "output_type": "stream",
          "name": "stdout",
          "text": [
            "risk_label2\n",
            "Low       52\n",
            "Medium    28\n",
            "High      20\n",
            "Name: count, dtype: int64\n"
          ]
        }
      ]
    },
    {
      "cell_type": "code",
      "source": [
        "# Save the new risk_label2 assignments to CSV\n",
        "out_path = \"stock_risk_kmeans_robust.csv\"\n",
        "data.to_csv(out_path, columns=[\n",
        "    \"vol30\", \"mom30\", \"beta60\", \"vol30_log\",\n",
        "    \"cluster2\", \"risk_label2\"\n",
        "])\n",
        "print(f\" Saved robust‑scaled K‑Means results to '{out_path}'\")\n"
      ],
      "metadata": {
        "colab": {
          "base_uri": "https://localhost:8080/"
        },
        "id": "UuVdZ4RAlq7c",
        "outputId": "33f4c184-1eda-4453-ed1b-f0e6672fad19"
      },
      "execution_count": 40,
      "outputs": [
        {
          "output_type": "stream",
          "name": "stdout",
          "text": [
            " Saved robust‑scaled K‑Means results to 'stock_risk_kmeans_robust.csv'\n"
          ]
        }
      ]
    }
  ]
}